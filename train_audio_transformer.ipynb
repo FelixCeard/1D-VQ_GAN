{
 "cells": [
  {
   "cell_type": "code",
   "execution_count": null,
   "metadata": {
    "collapsed": true
   },
   "outputs": [],
   "source": [
    "import numpy as np\n",
    "!git clone https://github.com/FelixCeard/1D-VQ_GAN.git"
   ]
  },
  {
   "cell_type": "code",
   "execution_count": null,
   "outputs": [],
   "source": [
    "!cd 1D-VQ_GAN && pip install -r requirements.txt"
   ],
   "metadata": {
    "collapsed": false
   }
  },
  {
   "cell_type": "code",
   "execution_count": null,
   "outputs": [],
   "source": [
    "import sys\n",
    "\n",
    "sys.path.insert(1, './1D-VQ_GAN')\n",
    "\n",
    "import logging\n",
    "import os\n",
    "import warnings\n",
    "from datetime import datetime\n",
    "\n",
    "from omegaconf import OmegaConf\n",
    "from pytorch_lightning import Trainer\n",
    "from pytorch_lightning.callbacks import Callback, LearningRateMonitor, ModelCheckpoint\n",
    "from pytorch_lightning.loggers import WandbLogger\n",
    "import soundfile as sf\n",
    "import torch\n",
    "import wandb\n",
    "from VQ_train_utils import instantiate_from_config"
   ],
   "metadata": {
    "collapsed": false
   }
  },
  {
   "cell_type": "code",
   "execution_count": null,
   "outputs": [],
   "source": [
    "# connect to google drive\n",
    "from google.colab import drive\n",
    "\n",
    "path_drive = '/content/drive'\n",
    "drive.mount(path_drive)"
   ],
   "metadata": {
    "collapsed": false
   }
  },
  {
   "cell_type": "code",
   "execution_count": null,
   "outputs": [],
   "source": [
    "# fuck warnings, me and my homies hate on warnings\n",
    "warnings.filterwarnings(\"ignore\")\n",
    "path_drive = 'drive/MyDrive'\n",
    "\n",
    "# # wandb\n",
    "wandb.login(key='e5ef4f3a1142de13823dd7b320a9e133b3f5bdfc')\n",
    "wandb_logger = WandbLogger(project=\"[NNTI]TransformerFixed\")\n",
    "\n",
    "# load configs\n",
    "logging.debug('loading configs')\n",
    "configs = [OmegaConf.load('1D-VQ_GAN/configs/google-colab_transformer.yaml')]\n",
    "config = OmegaConf.merge(*configs)\n",
    "\n",
    "# model\n",
    "logging.debug('loading model')\n",
    "model = instantiate_from_config(config.model)\n",
    "\n",
    "# data\n",
    "logging.debug('loading data')\n",
    "data = instantiate_from_config(config.data)\n",
    "data.prepare_data()\n",
    "data.setup()\n",
    "\n",
    "# dirs\n",
    "logging.debug('init callbacks')\n",
    "now = datetime.now().strftime(\"%Y-%m-%dT%H-%M-%S\")\n",
    "nowname = now + 'custom_transformer'\n",
    "logdir = os.path.join(\"logs\", nowname)\n",
    "logdir = os.path.join(path_drive, 'NNTI', logdir)\n",
    "ckptdir = os.path.join(logdir, \"checkpoints\")\n",
    "cfgdir = os.path.join(logdir, \"configs\")\n",
    "\n",
    "os.makedirs(logdir, exist_ok=True)\n",
    "os.makedirs(ckptdir, exist_ok=True)\n",
    "os.makedirs(cfgdir, exist_ok=True)\n",
    "\n",
    "\n",
    "class AudioLoggingCallback(Callback):\n",
    "\tdef __init__(self, sample):\n",
    "\t\tself.sample = sample\n",
    "\t\tself.index = 0\n",
    "\t\tos.makedirs('./logging_audio', exist_ok=True)\n",
    "\n",
    "\tdef on_train_epoch_end(self, trainer: \"pl.Trainer\", pl_module: \"pl.LightningModule\") -> None:\n",
    "\t\tmodel = pl_module.first_stage_model\n",
    "\t\twith torch.no_grad():\n",
    "\t\t\tself.sample = self.sample.to(model.device)\n",
    "\t\t\trec = model.forward(self.sample.clone())[0]\n",
    "\n",
    "\t\tmodel.logger.log_metrics({\n",
    "\t\t\t'OG': self.get_audio(self.sample.detach().cpu().numpy(), sample_rate=8_000, caption='OG'),\n",
    "\t\t\t'Reconstructed': self.get_audio(rec.detach().cpu().numpy(), sample_rate=8_000, caption='REC'),\n",
    "\t\t})\n",
    "\t\tself.index += 1\n",
    "\n",
    "\tdef get_audio(self, sample, sample_rate, caption):\n",
    "\t\tpath = os.path.join('./logging_audio', f'{self.index}{caption}.wav')\n",
    "\t\t# print(path, sample.shape)\n",
    "\t\tsf.write(path, np.ravel(sample), sample_rate, 'PCM_24')\n",
    "\t\treturn wandb.Audio(data_or_path=path, caption=caption, sample_rate=sample_rate)\n",
    "\n",
    "\n",
    "# callbacks\n",
    "callbacks = [\n",
    "\tLearningRateMonitor(logging_interval='step'),\n",
    "\tModelCheckpoint(dirpath=ckptdir, filename=\"{epoch:06}\", save_last=True),\n",
    "\tAudioLoggingCallback(next(data.val_dataloader()._get_iterator())['wav'])\n",
    "]\n",
    "\n",
    "# trainer\n",
    "accumulate_grad_batches = 12\n",
    "batch_size = config.data.params.batch_size\n",
    "model.learning_rate = accumulate_grad_batches * batch_size * config.model.base_learning_rate\n",
    "\n",
    "trainer = Trainer(\n",
    "\tlogger=wandb_logger,\n",
    "\tenable_checkpointing=True,\n",
    "\tcallbacks=callbacks,\n",
    "\t# accumulate_grad_batches=accumulate_grad_batches,\n",
    "\taccelerator=\"gpu\",\n",
    "\tdevices=-1\n",
    ")\n",
    "\n",
    "trainer.fit(model, data)"
   ],
   "metadata": {
    "collapsed": false
   }
  }
 ],
 "metadata": {
  "kernelspec": {
   "display_name": "Python 3",
   "language": "python",
   "name": "python3"
  },
  "language_info": {
   "codemirror_mode": {
    "name": "ipython",
    "version": 2
   },
   "file_extension": ".py",
   "mimetype": "text/x-python",
   "name": "python",
   "nbconvert_exporter": "python",
   "pygments_lexer": "ipython2",
   "version": "2.7.6"
  }
 },
 "nbformat": 4,
 "nbformat_minor": 0
}
