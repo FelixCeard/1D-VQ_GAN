{
 "cells": [
  {
   "cell_type": "markdown",
   "source": [
    "# DONT FORGET THE DATASET\n",
    "put it in ./dataset/*.wav"
   ],
   "metadata": {
    "collapsed": false
   }
  },
  {
   "cell_type": "code",
   "execution_count": null,
   "outputs": [],
   "source": [
    "import numpy as np\n",
    "!git clone https: // github.com / FelixCeard / 1D-VQ_GAN.git"
   ],
   "metadata": {
    "collapsed": false
   }
  },
  {
   "cell_type": "code",
   "execution_count": null,
   "metadata": {
    "collapsed": true
   },
   "outputs": [],
   "source": [
    "!cd 1D-VQ_GAN & & mkdir dataset & & unzip -d dataset speech_data.zip & & pip install -r requirements.txt"
   ]
  },
  {
   "cell_type": "code",
   "execution_count": 2,
   "outputs": [],
   "source": [
    "import sys\n",
    "\n",
    "sys.path.insert(1, './1D-VQ_GAN')\n",
    "\n",
    "import logging\n",
    "import os\n",
    "import warnings\n",
    "from datetime import datetime\n",
    "\n",
    "from omegaconf import OmegaConf\n",
    "from pytorch_lightning import Trainer\n",
    "from pytorch_lightning.callbacks import Callback, LearningRateMonitor, ModelCheckpoint\n",
    "from pytorch_lightning.loggers import WandbLogger\n",
    "import soundfile as sf\n",
    "import torch\n",
    "import wandb\n",
    "from VQ_train_utils import instantiate_from_config"
   ],
   "metadata": {
    "collapsed": false
   }
  },
  {
   "cell_type": "code",
   "execution_count": null,
   "outputs": [],
   "source": [
    "# connect to google drive\n",
    "from google.colab import drive\n",
    "\n",
    "path_drive = '/content/drive'\n",
    "drive.mount(path_drive)"
   ],
   "metadata": {
    "collapsed": false
   }
  },
  {
   "cell_type": "code",
   "execution_count": 3,
   "outputs": [
    {
     "ename": "KeyboardInterrupt",
     "evalue": "",
     "output_type": "error",
     "traceback": [
      "\u001B[1;31m---------------------------------------------------------------------------\u001B[0m",
      "\u001B[1;31mKeyboardInterrupt\u001B[0m                         Traceback (most recent call last)",
      "Cell \u001B[1;32mIn [3], line 6\u001B[0m\n\u001B[0;32m      3\u001B[0m path_drive \u001B[38;5;241m=\u001B[39m \u001B[38;5;124m'\u001B[39m\u001B[38;5;124mdrive/MyDrive\u001B[39m\u001B[38;5;124m'\u001B[39m\n\u001B[0;32m      5\u001B[0m \u001B[38;5;66;03m# # wandb\u001B[39;00m\n\u001B[1;32m----> 6\u001B[0m \u001B[43mwandb\u001B[49m\u001B[38;5;241;43m.\u001B[39;49m\u001B[43mlogin\u001B[49m\u001B[43m(\u001B[49m\u001B[43mkey\u001B[49m\u001B[38;5;241;43m=\u001B[39;49m\u001B[38;5;124;43m'\u001B[39;49m\u001B[38;5;124;43me5ef4f3a1142de13823dd7b320a9e133b3f5bdfc\u001B[39;49m\u001B[38;5;124;43m'\u001B[39;49m\u001B[43m)\u001B[49m\n\u001B[0;32m      7\u001B[0m wandb_logger \u001B[38;5;241m=\u001B[39m WandbLogger(project\u001B[38;5;241m=\u001B[39m\u001B[38;5;124m\"\u001B[39m\u001B[38;5;124m[NNTI]VQ-GAN1D\u001B[39m\u001B[38;5;124m\"\u001B[39m)\n\u001B[0;32m      9\u001B[0m \u001B[38;5;66;03m# load configs\u001B[39;00m\n",
      "File \u001B[1;32m~\\AppData\\Local\\Programs\\Python\\Python39\\lib\\site-packages\\wandb\\sdk\\wandb_login.py:74\u001B[0m, in \u001B[0;36mlogin\u001B[1;34m(anonymous, key, relogin, host, force, timeout)\u001B[0m\n\u001B[0;32m     54\u001B[0m \u001B[38;5;124;03m\"\"\"Log in to W&B.\u001B[39;00m\n\u001B[0;32m     55\u001B[0m \n\u001B[0;32m     56\u001B[0m \u001B[38;5;124;03mArguments:\u001B[39;00m\n\u001B[1;32m   (...)\u001B[0m\n\u001B[0;32m     71\u001B[0m \u001B[38;5;124;03m    UsageError - if api_key cannot be configured and no tty\u001B[39;00m\n\u001B[0;32m     72\u001B[0m \u001B[38;5;124;03m\"\"\"\u001B[39;00m\n\u001B[0;32m     73\u001B[0m _handle_host_wandb_setting(host)\n\u001B[1;32m---> 74\u001B[0m \u001B[38;5;28;01mif\u001B[39;00m \u001B[43mwandb\u001B[49m\u001B[38;5;241;43m.\u001B[39;49m\u001B[43msetup\u001B[49m\u001B[43m(\u001B[49m\u001B[43m)\u001B[49m\u001B[38;5;241m.\u001B[39m_settings\u001B[38;5;241m.\u001B[39m_noop:\n\u001B[0;32m     75\u001B[0m     \u001B[38;5;28;01mreturn\u001B[39;00m \u001B[38;5;28;01mTrue\u001B[39;00m\n\u001B[0;32m     76\u001B[0m kwargs \u001B[38;5;241m=\u001B[39m \u001B[38;5;28mdict\u001B[39m(\u001B[38;5;28mlocals\u001B[39m())\n",
      "File \u001B[1;32m~\\AppData\\Local\\Programs\\Python\\Python39\\lib\\site-packages\\wandb\\sdk\\wandb_setup.py:327\u001B[0m, in \u001B[0;36msetup\u001B[1;34m(settings)\u001B[0m\n\u001B[0;32m    324\u001B[0m \u001B[38;5;28;01mdef\u001B[39;00m \u001B[38;5;21msetup\u001B[39m(\n\u001B[0;32m    325\u001B[0m     settings: Optional[Settings] \u001B[38;5;241m=\u001B[39m \u001B[38;5;28;01mNone\u001B[39;00m,\n\u001B[0;32m    326\u001B[0m ) \u001B[38;5;241m-\u001B[39m\u001B[38;5;241m>\u001B[39m Optional[\u001B[38;5;124m\"\u001B[39m\u001B[38;5;124m_WandbSetup\u001B[39m\u001B[38;5;124m\"\u001B[39m]:\n\u001B[1;32m--> 327\u001B[0m     ret \u001B[38;5;241m=\u001B[39m \u001B[43m_setup\u001B[49m\u001B[43m(\u001B[49m\u001B[43msettings\u001B[49m\u001B[38;5;241;43m=\u001B[39;49m\u001B[43msettings\u001B[49m\u001B[43m)\u001B[49m\n\u001B[0;32m    328\u001B[0m     \u001B[38;5;28;01mreturn\u001B[39;00m ret\n",
      "File \u001B[1;32m~\\AppData\\Local\\Programs\\Python\\Python39\\lib\\site-packages\\wandb\\sdk\\wandb_setup.py:320\u001B[0m, in \u001B[0;36m_setup\u001B[1;34m(settings, _reset)\u001B[0m\n\u001B[0;32m    318\u001B[0m     _WandbSetup\u001B[38;5;241m.\u001B[39m_instance \u001B[38;5;241m=\u001B[39m \u001B[38;5;28;01mNone\u001B[39;00m\n\u001B[0;32m    319\u001B[0m     \u001B[38;5;28;01mreturn\u001B[39;00m \u001B[38;5;28;01mNone\u001B[39;00m\n\u001B[1;32m--> 320\u001B[0m wl \u001B[38;5;241m=\u001B[39m \u001B[43m_WandbSetup\u001B[49m\u001B[43m(\u001B[49m\u001B[43msettings\u001B[49m\u001B[38;5;241;43m=\u001B[39;49m\u001B[43msettings\u001B[49m\u001B[43m)\u001B[49m\n\u001B[0;32m    321\u001B[0m \u001B[38;5;28;01mreturn\u001B[39;00m wl\n",
      "File \u001B[1;32m~\\AppData\\Local\\Programs\\Python\\Python39\\lib\\site-packages\\wandb\\sdk\\wandb_setup.py:303\u001B[0m, in \u001B[0;36m_WandbSetup.__init__\u001B[1;34m(self, settings)\u001B[0m\n\u001B[0;32m    301\u001B[0m     _WandbSetup\u001B[38;5;241m.\u001B[39m_instance\u001B[38;5;241m.\u001B[39m_update(settings\u001B[38;5;241m=\u001B[39msettings)\n\u001B[0;32m    302\u001B[0m     \u001B[38;5;28;01mreturn\u001B[39;00m\n\u001B[1;32m--> 303\u001B[0m _WandbSetup\u001B[38;5;241m.\u001B[39m_instance \u001B[38;5;241m=\u001B[39m \u001B[43m_WandbSetup__WandbSetup\u001B[49m\u001B[43m(\u001B[49m\u001B[43msettings\u001B[49m\u001B[38;5;241;43m=\u001B[39;49m\u001B[43msettings\u001B[49m\u001B[43m,\u001B[49m\u001B[43m \u001B[49m\u001B[43mpid\u001B[49m\u001B[38;5;241;43m=\u001B[39;49m\u001B[43mpid\u001B[49m\u001B[43m)\u001B[49m\n",
      "File \u001B[1;32m~\\AppData\\Local\\Programs\\Python\\Python39\\lib\\site-packages\\wandb\\sdk\\wandb_setup.py:114\u001B[0m, in \u001B[0;36m_WandbSetup__WandbSetup.__init__\u001B[1;34m(self, pid, settings, environ)\u001B[0m\n\u001B[0;32m    111\u001B[0m wandb\u001B[38;5;241m.\u001B[39mtermsetup(\u001B[38;5;28mself\u001B[39m\u001B[38;5;241m.\u001B[39m_settings, logger)\n\u001B[0;32m    113\u001B[0m \u001B[38;5;28mself\u001B[39m\u001B[38;5;241m.\u001B[39m_check()\n\u001B[1;32m--> 114\u001B[0m \u001B[38;5;28;43mself\u001B[39;49m\u001B[38;5;241;43m.\u001B[39;49m\u001B[43m_setup\u001B[49m\u001B[43m(\u001B[49m\u001B[43m)\u001B[49m\n\u001B[0;32m    116\u001B[0m tracelog_mode \u001B[38;5;241m=\u001B[39m \u001B[38;5;28mself\u001B[39m\u001B[38;5;241m.\u001B[39m_settings\u001B[38;5;241m.\u001B[39m_tracelog\n\u001B[0;32m    117\u001B[0m \u001B[38;5;28;01mif\u001B[39;00m tracelog_mode:\n",
      "File \u001B[1;32m~\\AppData\\Local\\Programs\\Python\\Python39\\lib\\site-packages\\wandb\\sdk\\wandb_setup.py:250\u001B[0m, in \u001B[0;36m_WandbSetup__WandbSetup._setup\u001B[1;34m(self)\u001B[0m\n\u001B[0;32m    249\u001B[0m \u001B[38;5;28;01mdef\u001B[39;00m \u001B[38;5;21m_setup\u001B[39m(\u001B[38;5;28mself\u001B[39m) \u001B[38;5;241m-\u001B[39m\u001B[38;5;241m>\u001B[39m \u001B[38;5;28;01mNone\u001B[39;00m:\n\u001B[1;32m--> 250\u001B[0m     \u001B[38;5;28;43mself\u001B[39;49m\u001B[38;5;241;43m.\u001B[39;49m\u001B[43m_setup_manager\u001B[49m\u001B[43m(\u001B[49m\u001B[43m)\u001B[49m\n\u001B[0;32m    252\u001B[0m     sweep_path \u001B[38;5;241m=\u001B[39m \u001B[38;5;28mself\u001B[39m\u001B[38;5;241m.\u001B[39m_settings\u001B[38;5;241m.\u001B[39msweep_param_path\n\u001B[0;32m    253\u001B[0m     \u001B[38;5;28;01mif\u001B[39;00m sweep_path:\n",
      "File \u001B[1;32m~\\AppData\\Local\\Programs\\Python\\Python39\\lib\\site-packages\\wandb\\sdk\\wandb_setup.py:277\u001B[0m, in \u001B[0;36m_WandbSetup__WandbSetup._setup_manager\u001B[1;34m(self)\u001B[0m\n\u001B[0;32m    275\u001B[0m \u001B[38;5;28;01mif\u001B[39;00m \u001B[38;5;28mself\u001B[39m\u001B[38;5;241m.\u001B[39m_settings\u001B[38;5;241m.\u001B[39m_disable_service:\n\u001B[0;32m    276\u001B[0m     \u001B[38;5;28;01mreturn\u001B[39;00m\n\u001B[1;32m--> 277\u001B[0m \u001B[38;5;28mself\u001B[39m\u001B[38;5;241m.\u001B[39m_manager \u001B[38;5;241m=\u001B[39m \u001B[43mwandb_manager\u001B[49m\u001B[38;5;241;43m.\u001B[39;49m\u001B[43m_Manager\u001B[49m\u001B[43m(\u001B[49m\u001B[43msettings\u001B[49m\u001B[38;5;241;43m=\u001B[39;49m\u001B[38;5;28;43mself\u001B[39;49m\u001B[38;5;241;43m.\u001B[39;49m\u001B[43m_settings\u001B[49m\u001B[43m)\u001B[49m\n",
      "File \u001B[1;32m~\\AppData\\Local\\Programs\\Python\\Python39\\lib\\site-packages\\wandb\\sdk\\wandb_manager.py:146\u001B[0m, in \u001B[0;36m_Manager.__init__\u001B[1;34m(self, settings)\u001B[0m\n\u001B[0;32m    144\u001B[0m token \u001B[38;5;241m=\u001B[39m _ManagerToken\u001B[38;5;241m.\u001B[39mfrom_environment()\n\u001B[0;32m    145\u001B[0m \u001B[38;5;28;01mif\u001B[39;00m \u001B[38;5;129;01mnot\u001B[39;00m token:\n\u001B[1;32m--> 146\u001B[0m     \u001B[38;5;28;43mself\u001B[39;49m\u001B[38;5;241;43m.\u001B[39;49m\u001B[43m_service\u001B[49m\u001B[38;5;241;43m.\u001B[39;49m\u001B[43mstart\u001B[49m\u001B[43m(\u001B[49m\u001B[43m)\u001B[49m\n\u001B[0;32m    147\u001B[0m     host \u001B[38;5;241m=\u001B[39m \u001B[38;5;124m\"\u001B[39m\u001B[38;5;124mlocalhost\u001B[39m\u001B[38;5;124m\"\u001B[39m\n\u001B[0;32m    148\u001B[0m     \u001B[38;5;28;01mif\u001B[39;00m use_grpc:\n",
      "File \u001B[1;32m~\\AppData\\Local\\Programs\\Python\\Python39\\lib\\site-packages\\wandb\\sdk\\service\\service.py:199\u001B[0m, in \u001B[0;36m_Service.start\u001B[1;34m(self)\u001B[0m\n\u001B[0;32m    198\u001B[0m \u001B[38;5;28;01mdef\u001B[39;00m \u001B[38;5;21mstart\u001B[39m(\u001B[38;5;28mself\u001B[39m) \u001B[38;5;241m-\u001B[39m\u001B[38;5;241m>\u001B[39m \u001B[38;5;28;01mNone\u001B[39;00m:\n\u001B[1;32m--> 199\u001B[0m     \u001B[38;5;28;43mself\u001B[39;49m\u001B[38;5;241;43m.\u001B[39;49m\u001B[43m_launch_server\u001B[49m\u001B[43m(\u001B[49m\u001B[43m)\u001B[49m\n",
      "File \u001B[1;32m~\\AppData\\Local\\Programs\\Python\\Python39\\lib\\site-packages\\wandb\\sdk\\service\\service.py:191\u001B[0m, in \u001B[0;36m_Service._launch_server\u001B[1;34m(self)\u001B[0m\n\u001B[0;32m    189\u001B[0m \u001B[38;5;28mself\u001B[39m\u001B[38;5;241m.\u001B[39m_startup_debug_print(\u001B[38;5;124m\"\u001B[39m\u001B[38;5;124mwait_ports\u001B[39m\u001B[38;5;124m\"\u001B[39m)\n\u001B[0;32m    190\u001B[0m \u001B[38;5;28;01mtry\u001B[39;00m:\n\u001B[1;32m--> 191\u001B[0m     \u001B[38;5;28;43mself\u001B[39;49m\u001B[38;5;241;43m.\u001B[39;49m\u001B[43m_wait_for_ports\u001B[49m\u001B[43m(\u001B[49m\u001B[43mfname\u001B[49m\u001B[43m,\u001B[49m\u001B[43m \u001B[49m\u001B[43mproc\u001B[49m\u001B[38;5;241;43m=\u001B[39;49m\u001B[43minternal_proc\u001B[49m\u001B[43m)\u001B[49m\n\u001B[0;32m    192\u001B[0m \u001B[38;5;28;01mexcept\u001B[39;00m \u001B[38;5;167;01mException\u001B[39;00m \u001B[38;5;28;01mas\u001B[39;00m e:\n\u001B[0;32m    193\u001B[0m     sentry_reraise(e, delay\u001B[38;5;241m=\u001B[39m\u001B[38;5;28;01mTrue\u001B[39;00m)\n",
      "File \u001B[1;32m~\\AppData\\Local\\Programs\\Python\\Python39\\lib\\site-packages\\wandb\\sdk\\service\\service.py:124\u001B[0m, in \u001B[0;36m_Service._wait_for_ports\u001B[1;34m(self, fname, proc)\u001B[0m\n\u001B[0;32m    116\u001B[0m     \u001B[38;5;28;01mraise\u001B[39;00m ServiceStartProcessError(\n\u001B[0;32m    117\u001B[0m         \u001B[38;5;124mf\u001B[39m\u001B[38;5;124m\"\u001B[39m\u001B[38;5;124mThe wandb service process exited with \u001B[39m\u001B[38;5;132;01m{\u001B[39;00mproc\u001B[38;5;241m.\u001B[39mreturncode\u001B[38;5;132;01m}\u001B[39;00m\u001B[38;5;124m. \u001B[39m\u001B[38;5;124m\"\u001B[39m\n\u001B[0;32m    118\u001B[0m         \u001B[38;5;124m\"\u001B[39m\u001B[38;5;124mEnsure that `sys.executable` is a valid python interpreter. \u001B[39m\u001B[38;5;124m\"\u001B[39m\n\u001B[1;32m   (...)\u001B[0m\n\u001B[0;32m    121\u001B[0m         context\u001B[38;5;241m=\u001B[39mcontext,\n\u001B[0;32m    122\u001B[0m     )\n\u001B[0;32m    123\u001B[0m \u001B[38;5;28;01mif\u001B[39;00m \u001B[38;5;129;01mnot\u001B[39;00m os\u001B[38;5;241m.\u001B[39mpath\u001B[38;5;241m.\u001B[39misfile(fname):\n\u001B[1;32m--> 124\u001B[0m     \u001B[43mtime\u001B[49m\u001B[38;5;241;43m.\u001B[39;49m\u001B[43msleep\u001B[49m\u001B[43m(\u001B[49m\u001B[38;5;241;43m0.2\u001B[39;49m\u001B[43m)\u001B[49m\n\u001B[0;32m    125\u001B[0m     \u001B[38;5;28;01mcontinue\u001B[39;00m\n\u001B[0;32m    126\u001B[0m \u001B[38;5;28;01mtry\u001B[39;00m:\n",
      "\u001B[1;31mKeyboardInterrupt\u001B[0m: "
     ]
    }
   ],
   "source": [
    "# fuck warnings, me and my homies hate on warnings\n",
    "warnings.filterwarnings(\"ignore\")\n",
    "path_drive = 'drive/MyDrive'\n",
    "\n",
    "# # wandb\n",
    "wandb.login(key='e5ef4f3a1142de13823dd7b320a9e133b3f5bdfc')\n",
    "wandb_logger = WandbLogger(project=\"[NNTI]VQ-GAN\")\n",
    "\n",
    "# load configs\n",
    "logging.debug('loading configs')\n",
    "configs = [OmegaConf.load('1D-VQ_GAN/configs/1d-VQ_GAN_google-colab.yaml')]\n",
    "config = OmegaConf.merge(*configs)\n",
    "\n",
    "# model\n",
    "logging.debug('loading model')\n",
    "model = instantiate_from_config(config.model)\n",
    "\n",
    "# data\n",
    "logging.debug('loading data')\n",
    "data = instantiate_from_config(config.data)\n",
    "data.prepare_data()\n",
    "data.setup()\n",
    "\n",
    "# dirs\n",
    "logging.debug('init callbacks')\n",
    "now = datetime.now().strftime(\"%Y-%m-%dT%H-%M-%S\")\n",
    "nowname = now + 'custom_transformer'\n",
    "logdir = os.path.join(\"logs\", nowname)\n",
    "logdir = os.path.join(path_drive, 'NNTI', logdir)\n",
    "ckptdir = os.path.join(logdir, \"checkpoints\")\n",
    "cfgdir = os.path.join(logdir, \"configs\")\n",
    "\n",
    "os.makedirs(logdir, exist_ok=True)\n",
    "os.makedirs(ckptdir, exist_ok=True)\n",
    "os.makedirs(cfgdir, exist_ok=True)\n",
    "\n",
    "\n",
    "class BestModelLogging(Callback):\n",
    "\tdef __init__(self, path):\n",
    "\t\tself.path = path\n",
    "\n",
    "\tdef on_train_epoch_end(self, trainer: \"pl.Trainer\", pl_module: \"pl.LightningModule\") -> None:\n",
    "\t\tloss = torch.mean(pl_module.aelosses) + torch.mean(pl_module.disclosses)\n",
    "\t\tif pl_module.best_loss > loss:\n",
    "\t\t\tpl_module.best_loss = loss\n",
    "\t\t\ttorch.save(model.state_dict(), self.path)\n",
    "\n",
    "\n",
    "class AudioLoggingCallback(Callback):\n",
    "\tdef __init__(self, sample):\n",
    "\t\tself.sample = sample\n",
    "\t\tself.index = 0\n",
    "\t\tos.makedirs('./logging_audio', exist_ok=True)\n",
    "\n",
    "\tdef on_train_epoch_end(self, trainer: \"pl.Trainer\", pl_module: \"pl.LightningModule\") -> None:\n",
    "\t\tmodel = pl_module\n",
    "\t\twith torch.no_grad():\n",
    "\t\t\trec = model.forward(self.sample.clone())[0]\n",
    "\n",
    "\t\tmodel.logger.log_metrics({\n",
    "\t\t\t'OG': self.get_audio(self.sample.detach().numpy(), sample_rate=8_000, caption='OG'),\n",
    "\t\t\t'Reconstructed': self.get_audio(rec.detach().numpy(), sample_rate=8_000, caption='REC'),\n",
    "\t\t})\n",
    "\t\tself.index += 1\n",
    "\n",
    "\tdef get_audio(self, sample, sample_rate, caption):\n",
    "\t\tpath = os.path.join('./logging_audio', f'{self.index}{caption}.wav')\n",
    "    # print(path, sample.shape)\n",
    "\t\tsf.write(path, np.ravel(sample), sample_rate, 'PCM_24')\n",
    "\t\treturn wandb.Audio(data_or_path=path, caption=caption, sample_rate=sample_rate)\n",
    "\n",
    "# callbacks\n",
    "callbacks = [\n",
    "\tLearningRateMonitor(logging_interval='step'),\n",
    "\tModelCheckpoint(dirpath=ckptdir, filename=\"{epoch:06}\", save_last=True),\n",
    "\tAudioLoggingCallback(next(data.val_dataloader()._get_iterator())['wav']),\n",
    "\tBestModelLogging(os.path.join(path_drive, 'NNTI', 'best_VQ_GAN.pt'))\n",
    "]\n",
    "\n",
    "# trainer\n",
    "accumulate_grad_batches = 12\n",
    "batch_size = config.data.params.batch_size\n",
    "model.learning_rate = accumulate_grad_batches * batch_size * config.model.base_learning_rate\n",
    "\n",
    "trainer = Trainer(\n",
    "\tlogger=wandb_logger,\n",
    "\tenable_checkpointing=True,\n",
    "\tcallbacks=callbacks,\n",
    "\taccumulate_grad_batches=accumulate_grad_batches,\n",
    "\tgradient_clip_val=0.5\n",
    ")\n",
    "\n",
    "trainer.fit(model, data)"
   ],
   "metadata": {
    "collapsed": false
   }
  },
  {
   "cell_type": "code",
   "execution_count": null,
   "outputs": [],
   "source": [],
   "metadata": {
    "collapsed": false
   }
  }
 ],
 "metadata": {
  "kernelspec": {
   "display_name": "Python 3",
   "language": "python",
   "name": "python3"
  },
  "language_info": {
   "codemirror_mode": {
    "name": "ipython",
    "version": 2
   },
   "file_extension": ".py",
   "mimetype": "text/x-python",
   "name": "python",
   "nbconvert_exporter": "python",
   "pygments_lexer": "ipython2",
   "version": "2.7.6"
  }
 },
 "nbformat": 4,
 "nbformat_minor": 0
}
