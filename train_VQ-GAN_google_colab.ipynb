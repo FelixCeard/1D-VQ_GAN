{
 "cells": [
  {
   "cell_type": "markdown",
   "source": [
    "# DONT FORGET THE DATASET\n",
    "put it in ./dataset/*.wav"
   ],
   "metadata": {
    "collapsed": false
   }
  },
  {
   "cell_type": "code",
   "execution_count": null,
   "metadata": {
    "collapsed": true
   },
   "outputs": [],
   "source": [
    "!pip install -r requirements.txt"
   ]
  },
  {
   "cell_type": "code",
   "execution_count": null,
   "outputs": [],
   "source": [
    "import logging\n",
    "import os\n",
    "import warnings\n",
    "from datetime import datetime\n",
    "\n",
    "from omegaconf import OmegaConf\n",
    "from pytorch_lightning import Trainer\n",
    "from pytorch_lightning.callbacks import LearningRateMonitor, ModelCheckpoint\n",
    "from pytorch_lightning.loggers import WandbLogger\n",
    "\n",
    "import wandb\n",
    "from VQ_train_utils import instantiate_from_config"
   ],
   "metadata": {
    "collapsed": false
   }
  },
  {
   "cell_type": "code",
   "execution_count": null,
   "outputs": [],
   "source": [
    "# connect to google drive\n",
    "from google.colab import drive\n",
    "path_drive = '/content/drive'\n",
    "drive.mount(path_drive)"
   ],
   "metadata": {
    "collapsed": false
   }
  },
  {
   "cell_type": "code",
   "execution_count": null,
   "outputs": [],
   "source": [
    "# fuck warnings, me and my homies hate on warnings\n",
    "warnings.filterwarnings(\"ignore\")\n",
    "\n",
    "# # wandb\n",
    "wandb.login(key='e5ef4f3a1142de13823dd7b320a9e133b3f5bdfc')\n",
    "wandb_logger = WandbLogger(project=\"[NNTI]VQ-GAN1D\")\n",
    "\n",
    "# load configs\n",
    "logging.debug('loading configs')\n",
    "configs = [OmegaConf.load('./configs/1d-VQ_GAN.yaml')]\n",
    "config = OmegaConf.merge(*configs)\n",
    "\n",
    "# model\n",
    "logging.debug('loading model')\n",
    "model = instantiate_from_config(config.model)\n",
    "\n",
    "# data\n",
    "logging.debug('loading data')\n",
    "data = instantiate_from_config(config.data)\n",
    "data.prepare_data()\n",
    "data.setup()\n",
    "\n",
    "# dirs\n",
    "logging.debug('init callbacks')\n",
    "now = datetime.now().strftime(\"%Y-%m-%dT%H-%M-%S\")\n",
    "nowname = now + 'custom_transformer'\n",
    "logdir = os.path.join(\"logs\", nowname)\n",
    "logdir = os.path.join(path_drive, 'NNTI', logdir)\n",
    "ckptdir = os.path.join(logdir, \"checkpoints\")\n",
    "cfgdir = os.path.join(logdir, \"configs\")\n",
    "\n",
    "# callbacks\n",
    "callbacks = [\n",
    "    LearningRateMonitor(logging_interval='step'),\n",
    "    ModelCheckpoint(dirpath=ckptdir, filename=\"{epoch:06}\", save_last=True)\n",
    "]\n",
    "\n",
    "# trainer\n",
    "accumulate_grad_batches = 12\n",
    "batch_size = config.data.params.batch_size\n",
    "model.learning_rate = accumulate_grad_batches * batch_size * config.model.base_learning_rate\n",
    "\n",
    "trainer = Trainer(\n",
    "    logger=wandb_logger,\n",
    "    enable_checkpointing=True,\n",
    "    callbacks=callbacks,\n",
    "    accumulate_grad_batches=accumulate_grad_batches\n",
    ")\n",
    "\n",
    "trainer.fit(model, data)"
   ],
   "metadata": {
    "collapsed": false
   }
  }
 ],
 "metadata": {
  "kernelspec": {
   "display_name": "Python 3",
   "language": "python",
   "name": "python3"
  },
  "language_info": {
   "codemirror_mode": {
    "name": "ipython",
    "version": 2
   },
   "file_extension": ".py",
   "mimetype": "text/x-python",
   "name": "python",
   "nbconvert_exporter": "python",
   "pygments_lexer": "ipython2",
   "version": "2.7.6"
  }
 },
 "nbformat": 4,
 "nbformat_minor": 0
}
