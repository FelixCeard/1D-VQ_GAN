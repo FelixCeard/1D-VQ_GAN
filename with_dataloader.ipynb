{
 "cells": [
  {
   "cell_type": "code",
   "execution_count": null,
   "outputs": [],
   "source": [
    "!git clone https://github.com/FelixCeard/1D-VQ_GAN.git\n",
    "!cd 1D-VQ_GAN && pip install -r requirements.txt"
   ],
   "metadata": {
    "collapsed": false
   }
  },
  {
   "cell_type": "code",
   "execution_count": null,
   "metadata": {
    "collapsed": true
   },
   "outputs": [],
   "source": [
    "from omegaconf import OmegaConf\n",
    "from VQ_train_utils import instantiate_from_config"
   ]
  },
  {
   "cell_type": "code",
   "execution_count": null,
   "outputs": [],
   "source": [
    "# get the dataloader\n",
    "# load configs\n",
    "print('loading configs')\n",
    "configs = [OmegaConf.load('1D-VQ_GAN/configs/JustDataloader.yaml')]\n",
    "config = OmegaConf.merge(*configs)\n",
    "\n",
    "# data\n",
    "print('loading data')\n",
    "data = instantiate_from_config(config.data)\n",
    "data.prepare_data()\n",
    "data.setup()"
   ],
   "metadata": {
    "collapsed": false
   }
  },
  {
   "cell_type": "code",
   "execution_count": null,
   "outputs": [],
   "source": [
    "# get the dataloader\n",
    "iterator_train = data.train_dataloader()._get_iterator()\n",
    "iterator_val = data.val_dataloader()._get_iterator()"
   ],
   "metadata": {
    "collapsed": false
   }
  }
 ],
 "metadata": {
  "kernelspec": {
   "display_name": "Python 3",
   "language": "python",
   "name": "python3"
  },
  "language_info": {
   "codemirror_mode": {
    "name": "ipython",
    "version": 2
   },
   "file_extension": ".py",
   "mimetype": "text/x-python",
   "name": "python",
   "nbconvert_exporter": "python",
   "pygments_lexer": "ipython2",
   "version": "2.7.6"
  }
 },
 "nbformat": 4,
 "nbformat_minor": 0
}
